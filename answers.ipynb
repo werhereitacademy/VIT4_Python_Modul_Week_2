{
 "cells": [
  {
   "cell_type": "code",
   "execution_count": null,
   "metadata": {},
   "outputs": [],
   "source": [
    "# VIT4_Python_Modul_Week_2"
   ]
  },
  {
   "cell_type": "code",
   "execution_count": null,
   "metadata": {},
   "outputs": [],
   "source": [
    "# Answer 1\n",
    "\n",
    "def not_hesapla(vize, final, sozlu):\n",
    "    ortalama = vize * 0.3 + final * 0.5 + sozlu * 0.2\n",
    "    return ortalama\n",
    "\n",
    "ogrenciler = {\n",
    "    1: {\"ad\": \"Ali\", \"soyad\": \"Yılmaz\", \"vize\": 70, \"final\": 80, \"sozlu\": 90},\n",
    "    2: {\"ad\": \"Ayşe\", \"soyad\": \"Demir\", \"vize\": 60, \"final\": 75, \"sozlu\": 85},\n",
    "    3: {\"ad\": \"Mehmet\", \"soyad\": \"Kaya\", \"vize\": 80, \"final\": 85, \"sozlu\": 75},\n",
    "    4: {\"ad\": \"Fatma\", \"soyad\": \"Yıldız\", \"vize\": 65, \"final\": 70, \"sozlu\": 80},\n",
    "    5: {\"ad\": \"Mustafa\", \"soyad\": \"Arslan\", \"vize\": 75, \"final\": 65, \"sozlu\": 90},\n",
    "    6: {\"ad\": \"Zeynep\", \"soyad\": \"Çelik\", \"vize\": 85, \"final\": 90, \"sozlu\": 80},\n",
    "    7: {\"ad\": \"Ahmet\", \"soyad\": \"Şahin\", \"vize\": 55, \"final\": 60, \"sozlu\": 70},\n",
    "    8: {\"ad\": \"Aylin\", \"soyad\": \"Kurt\", \"vize\": 70, \"final\": 80, \"sozlu\": 75},\n",
    "    9: {\"ad\": \"Emre\", \"soyad\": \"Tekin\", \"vize\": 75, \"final\": 85, \"sozlu\": 80},\n",
    "    10: {\"ad\": \"Gizem\", \"soyad\": \"Bulut\", \"vize\": 80, \"final\": 75, \"sozlu\": 90}\n",
    "}\n",
    "\n",
    "for ogrenci_id, bilgiler in ogrenciler.items():\n",
    "    vize = bilgiler[\"vize\"]\n",
    "    final = bilgiler[\"final\"]\n",
    "    sozlu = bilgiler[\"sozlu\"]\n",
    "    ortalama = not_hesapla(vize, final, sozlu)\n",
    "    bilgiler[\"ortalama\"] = ortalama\n",
    "\n",
    "\n",
    "en_yuksek_ortalama = max(ogrenciler.values(), key=lambda x: x[\"ortalama\"])\n",
    "print(\"En yüksek not ortalamasına sahip öğrenci:\", en_yuksek_ortalama[\"ad\"], en_yuksek_ortalama[\"soyad\"])\n",
    "\n",
    "\n",
    "ad_soyad_listesi = [(bilgiler[\"ad\"], bilgiler[\"soyad\"]) for bilgiler in ogrenciler.values()]\n",
    "\n",
    "\n",
    "ad_soyad_listesi.sort()\n",
    "print(\"Adları alfabetik sıraya göre sıralanmış liste:\", ad_soyad_listesi)\n",
    "\n",
    "\n",
    "not_70_alti_ogrenciler = {bilgiler[\"ad\"] for bilgiler in ogrenciler.values() if bilgiler[\"ortalama\"] < 70}\n",
    "print(\"Not ortalaması 70'in altında olan öğrenciler:\", not_70_alti_ogrenciler)"
   ]
  },
  {
   "cell_type": "markdown",
   "metadata": {},
   "source": [
    "###  Soru1: Öğrenci Notları İşleme\n",
    "\n",
    "Bir öğrenci notlarını işlemek için bir Python programı yazmanız gerekiyor. Programın aşağıdaki işlevleri yerine getirmesi gerekiyor:\n",
    "\n",
    "Bir sözlük kullanarak 10 öğrencinin bilgilerini ve notlarını saklayın. Her öğrencinin adı, soyadı ve notları(Vize, Final ve Sozlu notu) olsun. Örneğin:\n",
    "\n",
    "![resim](https://github.com/werhereitacademy/week_2/assets/141542413/dc91b4b6-a51c-4f5f-80a3-854d505ce48a)\n",
    "\n",
    "1-Her öğrencinin not ortalamasını hesaplayın ve sözlüğe ekleyin.\n",
    "\n",
    "2-En yüksek not ortalamasına sahip öğrenciyi bulun ve ekrana yazdırın.\n",
    "\n",
    "3-Her öğrencinin adını soyadından ayırarak ayrı bir tuple içinde saklayın ve bunları bir listeye ekleyin.\n",
    "\n",
    "4-Adları alfabetik sıraya göre sıralayın ve sıralanmış listeyi ekrana yazdırın.\n",
    "\n",
    "5-Not ortalaması 70'in altında olan öğrencileri bir küme (set) içinde saklayın."
   ]
  },
  {
   "cell_type": "code",
   "execution_count": 4,
   "metadata": {
    "tags": [
     "1.Sorunun Cevabı:"
    ]
   },
   "outputs": [],
   "source": [
    "students= {\n",
    "    \"Ahmet Yılmaz\": [85, 90, 78],\n",
    "    \"Mehmet Demir\": [92, 88, 76],\n",
    "    \"Ayşe Kaya\"   : [78, 89, 95],\n",
    "    \"Ferhat Taş\"  : [90, 68, 70],\n",
    "    \"Pelin Sarı\"  : [88, 95, 90],\n",
    "    \"Selim Gök\"   : [95, 75, 85],\n",
    "    \"Osma Arslan\" : [90, 82, 88],\n",
    "    \"Fatma Güzel\" : [73, 78, 68],\n",
    "    \"Cem Erken\"   : [82, 72, 92],\n",
    "    \"Barış Koç\"   : [92, 82, 99]\n",
    "    \n",
    "    }\n",
    "\n",
    "    "
   ]
  },
  {
   "cell_type": "markdown",
   "metadata": {},
   "source": [
    "###  Soru 2 : Film Kütüphanesi Yönetim Sistemi Projesi\n",
    "\n",
    "Proje Açıklaması: Bu proje, kullanıcının kendi film koleksiyonunu yönetmesine yardımcı olacak bir uygulama oluşturmayı amaçlar. Kullanıcılar filmleri ekleyebilir, düzenleyebilir, silebilir ve koleksiyonlarını görüntüleyebilir.\n",
    "\n",
    "Kullanılan Veri Yapıları: Sözlükler (filmleri ve ilgili bilgileri saklamak için), listeler (film koleksiyonunu görüntülemek için)\n",
    "\n",
    "Temel İşlevler:\n",
    "\n",
    "1-Kullanıcıdan film adı, yönetmen, yayın yılı ve tür gibi bilgileri alarak bir film verisi oluşturun ve bunu bir sözlükte saklayın.\n",
    "\n",
    "2-Kullanıcıya bir filmi düzenleme veya silme seçeneği sunun.(Bunun icin filme ait hangi veriyi degistirmek istiyorlarsa ona uygun bir fonksiyon yazilmasi gerekir.)\n",
    "\n",
    "3-Kullanıcının koleksiyonunu görüntülemesine izin verin. Tüm filmleri listeleyin veya tür veya yayın yılı gibi kriterlere göre filtreleyin.\n",
    "\n",
    "4-Film verilerini bir dosyada saklayın ve programı başlattığınızda bu veriyi geri yükleyin."
   ]
  },
  {
   "cell_type": "code",
   "execution_count": 6,
   "metadata": {
    "tags": [
     "2. Sorunun Cevabı:"
    ]
   },
   "outputs": [
    {
     "name": "stdout",
     "output_type": "stream",
     "text": [
      "\n",
      "|=======Movie Library Management====[-][o][x]\n",
      "|                                           |\n",
      "|       Welkome To The Movie Library!       |\n",
      "|              Version 0.1                  |\n",
      "|         Copyright@Vit 4 Group 2           |\n",
      "|                                           |\n",
      "|                                           |\n",
      "|===========================================|\n",
      "\n"
     ]
    }
   ],
   "source": [
    "print(\"\"\"\n",
    "|=======Movie Library Management====[-][o][x]\n",
    "|                                           |\n",
    "|       Welkome To The Movie Library!       |\n",
    "|              Version 0.1                  |\n",
    "|         Copyright@Vit 4 Group 2           |\n",
    "|                                           |\n",
    "|                                           |\n",
    "|===========================================|\n",
    "\"\"\")\n",
    "\n"
   ]
  },
  {
   "cell_type": "markdown",
   "metadata": {},
   "source": [
    "###  Soru 3 :Müşteri Yönetim Sistemi\n",
    "Proje Açıklaması: Bu proje, müşterilerinizi yönetmek ve temel işlemleri gerçekleştirmek için kullanabileceğiniz bir müşteri yönetim sistemi oluşturmanızı içerir. Bu sistem, müşteri bilgilerini saklama, yeni müşteri ekleyebilme, müşteri bilgilerini güncelleyebilme, müşteri silme ve müşteri listesini görüntüleme gibi temel işlevlere sahip olacaktır. İşte projenin temel adımları:\n",
    "\n",
    "1-Müşteri bilgilerini saklamak için bir sözlük yapısı kullanın. Her müşteri için bir benzersiz müşteri kimliği (ID) atayın ve müşteri bilgilerini bu kimlikle ilişkilendirin. Her müşteri için ad, soyad, e-posta, telefon gibi bilgileri içeren bir sözlük kullanabilirsiniz.\n",
    "\n",
    "2-Kullanıcıya aşağıdaki işlemleri seçebileceği bir menü sunun:\n",
    "\n",
    "* Yeni müşteri eklemek\n",
    "* Müşteri bilgilerini güncellemek\n",
    "* Müşteri silmek\n",
    "* Tüm müşterileri listelemek\n",
    "* Çıkış yapmak\n",
    "\n",
    "3-Kullanıcının seçimine göre ilgili işlemi gerçekleştirin. Örneğin, yeni müşteri eklerken kullanıcıdan gerekli bilgileri alın ve sözlüğe yeni bir müşteri ekleyin.\n",
    "\n",
    "4-Müşteri bilgilerini güncellerken, müşteri kimliğini kullanarak mevcut bilgileri görüntüleyin ve güncellenmiş bilgileri kaydedin.\n",
    "\n",
    "5-Müşteri silme işleminde kullanıcıdan müşteri kimliğini alın ve bu müşteriyi sözlükten silin.\n",
    "\n",
    "6-Tüm müşterileri listeleme işleminde, mevcut müşterilerin listesini görüntüleyin.\n",
    "\n",
    "7-Kullanıcı çıkış yapana kadar işlemleri tekrarlayın.  "
   ]
  },
  {
   "cell_type": "code",
   "execution_count": 7,
   "metadata": {
    "tags": [
     "3.Sorunun Cevabı"
    ]
   },
   "outputs": [
    {
     "name": "stdout",
     "output_type": "stream",
     "text": [
      "\n",
      "|=====Customer Management System====[-][o][x]\n",
      "|                                           |\n",
      "|       Welkome To Customer Management      |\n",
      "|             System Version 0.1            |\n",
      "|         Copyright@Vit 4 Group 2           |\n",
      "|                                           |\n",
      "|                                           |\n",
      "|===========================================|\n",
      "\n"
     ]
    }
   ],
   "source": [
    "print(\"\"\"\n",
    "|=====Customer Management System====[-][o][x]\n",
    "|                                           |\n",
    "|     Welkome To The Customer Management    |\n",
    "|             System Version 0.1            |\n",
    "|          Copyright@Vit 4 Group 2          |\n",
    "|                                           |\n",
    "|                                           |\n",
    "|===========================================|\n",
    "\"\"\")"
   ]
  }
 ],
 "metadata": {
  "kernelspec": {
   "display_name": "Python 3",
   "language": "python",
   "name": "python3"
  },
  "language_info": {
   "codemirror_mode": {
    "name": "ipython",
    "version": 3
   },
   "file_extension": ".py",
   "mimetype": "text/x-python",
   "name": "python",
   "nbconvert_exporter": "python",
   "pygments_lexer": "ipython3",
   "version": "3.12.2"
  }
 },
 "nbformat": 4,
 "nbformat_minor": 2
}
